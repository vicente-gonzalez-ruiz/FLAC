{
 "cells": [
  {
   "cell_type": "markdown",
   "metadata": {},
   "source": [
    "# [FLAC (Free Lossless Audio Codec)](https://xiph.org/flac/)"
   ]
  },
  {
   "cell_type": "markdown",
   "metadata": {},
   "source": [
    "* FLAC was [started in 2000](https://en.wikipedia.org/wiki/FLAC#History). In 2003 it becomes as a project in the Xiph.Org Foundation.\n",
    "* Lossless. Typically compress 2:1.\n",
    "* [Supports](https://en.wikipedia.org/wiki/FLAC#Source_encoder) only fixed-point samples, not floating-point. It can handle any PCM bit resolution from 4 to 24 bits per sample, any sampling rate from 1 Hz to 65,535 Hz in 1 Hz increments or from 10 Hz to 655,350 Hz in 10 Hz increments, and any number of channels from 1 to 8."
   ]
  },
  {
   "cell_type": "markdown",
   "metadata": {},
   "source": [
    "## Encoding algorithm:\n",
    "1. Decorrelate PCM samples using linear prediction. Available predictors are: Zero, Verbatim, Fixed Linear and FIR Linear\n",
    "2. Encode the residuals using Golomb Coding and RLE (silences)."
   ]
  },
  {
   "cell_type": "markdown",
   "metadata": {},
   "source": [
    "## Performance (TO-DO)\n",
    "Download the WAV file [Arnesen: MAGNIFICAT 4. Et misericordia](http://www.lindberg.no/hires/test/2L-106_04_stereo_44k_16b_01.flac) and expand it. Compute the compression ratio. Compare with [gzip](http://www.gzip.org/)."
   ]
  }
 ],
 "metadata": {
  "kernelspec": {
   "display_name": "Python 3",
   "language": "python",
   "name": "python3"
  },
  "language_info": {
   "codemirror_mode": {
    "name": "ipython",
    "version": 3
   },
   "file_extension": ".py",
   "mimetype": "text/x-python",
   "name": "python",
   "nbconvert_exporter": "python",
   "pygments_lexer": "ipython3",
   "version": "3.6.1"
  }
 },
 "nbformat": 4,
 "nbformat_minor": 2
}
