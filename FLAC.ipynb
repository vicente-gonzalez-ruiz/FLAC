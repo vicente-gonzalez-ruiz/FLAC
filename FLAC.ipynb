{
 "cells": [
  {
   "cell_type": "markdown",
   "metadata": {},
   "source": [
    "# FLAC (Free Lossless Audio Codec)"
   ]
  },
  {
   "cell_type": "markdown",
   "metadata": {},
   "source": [
    "* FLAC was started in 2000. In 2003 it becomes as a project in the Xiph.Org Foundation.\n",
    "* Used when no loss of quality is desired. Typically compress 2:1."
   ]
  },
  {
   "cell_type": "markdown",
   "metadata": {},
   "source": [
    "## Encoding algorithm:\n",
    "1. Decorrelate PCM samples using linear prediction.\n",
    "2. Encode the residuals using RLE and Golomb Coding."
   ]
  },
  {
   "cell_type": "markdown",
   "metadata": {},
   "source": [
    "## Performance (TO-DO)\n",
    "Download the WAV file [Arnesen: MAGNIFICAT 4. Et misericordia](http://www.lindberg.no/hires/test/2L-106_04_stereo_44k_16b_01.flac) and expand it. Compute the compression ratio."
   ]
  }
 ],
 "metadata": {
  "kernelspec": {
   "display_name": "Python 3",
   "language": "python",
   "name": "python3"
  },
  "language_info": {
   "codemirror_mode": {
    "name": "ipython",
    "version": 3
   },
   "file_extension": ".py",
   "mimetype": "text/x-python",
   "name": "python",
   "nbconvert_exporter": "python",
   "pygments_lexer": "ipython3",
   "version": "3.6.3"
  }
 },
 "nbformat": 4,
 "nbformat_minor": 2
}
