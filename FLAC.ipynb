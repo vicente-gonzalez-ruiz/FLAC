{
 "cells": [
  {
   "cell_type": "markdown",
   "metadata": {},
   "source": [
    "# FLAC (Free Lossless Audio Codec)"
   ]
  },
  {
   "cell_type": "markdown",
   "metadata": {},
   "source": [
    "\\begin{itemize}\n",
    "\\item FLAC was started in 2000. In 2003 it becomes as a project in the\n",
    "  Xiph.Org Foundation.\n",
    "\\item Used when no loss of quality is desired. Typically compress 2:1.\n",
    "\\item Encoding algorithm:\n",
    "  \\begin{enumerate}\n",
    "  \\item Decorrelate PCM samples using linear prediction.\n",
    "  \\item Encode the residuals using RLE and Golomb Coding.\n",
    "\\end{enumerate}\n",
    "\\end{itemize}"
   ]
  }
 ],
 "metadata": {
  "kernelspec": {
   "display_name": "Python 3",
   "language": "python",
   "name": "python3"
  },
  "language_info": {
   "codemirror_mode": {
    "name": "ipython",
    "version": 3
   },
   "file_extension": ".py",
   "mimetype": "text/x-python",
   "name": "python",
   "nbconvert_exporter": "python",
   "pygments_lexer": "ipython3",
   "version": "3.6.3"
  }
 },
 "nbformat": 4,
 "nbformat_minor": 2
}
